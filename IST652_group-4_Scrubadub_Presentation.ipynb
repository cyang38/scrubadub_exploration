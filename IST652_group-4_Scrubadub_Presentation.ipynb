{
 "cells": [
  {
   "cell_type": "code",
   "execution_count": null,
   "metadata": {},
   "outputs": [],
   "source": [
    "import scrubadub\n",
    "scrubadub.VERSION\n",
    "\n",
    "# Apr-06-2015 is the first release - version 0.0.1 - maintained by Dean.Malmgren\n",
    "# the latest version for the package is released on 3/18/2018 with version 1.2.0"
   ]
  },
  {
   "cell_type": "code",
   "execution_count": null,
   "metadata": {},
   "outputs": [],
   "source": [
    "# Scrubadub only work for text (type= string or btype)\n",
    "\n",
    "text = u\"Ben Nicholas is a professor for ischool but also a special agent at FBI.\"\n",
    "# So he doesn't want people to know his name. We can replace names with {{NAME}} placeholder. \n",
    "# This is the scrubadub default function because it maximally omits any information about people.\n",
    "scrubadub.clean(text)\n"
   ]
  },
  {
   "cell_type": "code",
   "execution_count": null,
   "metadata": {},
   "outputs": [],
   "source": [
    "# Sometimes, you have different names in a sentence, replacing names with {{NAME-ID}} different \n",
    "# IDs can helps readers to tell they are different persons. So, I put replace_with = identifier here\n",
    "# you can save the text in a variable or just define it in the function\n",
    "\n",
    "scrubadub.clean(text, replace_with='identifier')\n",
    "scrubadub.clean(\"John spoke with Doug.\", replace_with='identifier')"
   ]
  },
  {
   "cell_type": "code",
   "execution_count": null,
   "metadata": {},
   "outputs": [],
   "source": [
    "# it works with  SSN too. Another replace_with argument is placeholder, which is by default, \n",
    "# where you cannot tell the different SSN here.\n",
    "\n",
    "scrubber = scrubadub.Scrubber()\n",
    "par_3 = u\"my SSN is 123-59-3452 and Joy's SSD is 345-45-5678\"\n",
    "scrubber.clean(par_3, replace_with='placeholder')"
   ]
  },
  {
   "cell_type": "code",
   "execution_count": null,
   "metadata": {
    "scrolled": true
   },
   "outputs": [],
   "source": [
    "# Sometimes, we don't want to hide everything in the text, for example, we want to show the name \n",
    "# but no the email here. We add scrubber.remove_detector('name')\n",
    "\n",
    "scrubber = scrubadub.Scrubber()\n",
    "scrubber.remove_detector('name')\n",
    "text = u\"contact Joe Duffy at joe@example.com\"\n",
    "scrubadub.clean(text)"
   ]
  },
  {
   "cell_type": "code",
   "execution_count": null,
   "metadata": {},
   "outputs": [],
   "source": [
    "# Suppressing a detector\n",
    "# You will need to use scrubber instead of scrubadub function to apply the detector\n",
    "scrubber.clean(text)"
   ]
  },
  {
   "cell_type": "code",
   "execution_count": null,
   "metadata": {},
   "outputs": [],
   "source": [
    "# By default, scrubadub uses {} curly bracket to show what has been removed from the text\n",
    "# However, you can also customize the notation by changing the prefix and suffix\n",
    "# for example, we want to bold the results, when showing in the webpage (HTML).\n",
    "\n",
    "scrubadub.filth.base.Filth.prefix = u'<b>' \n",
    "scrubadub.filth.base.Filth.suffix = u'</b>'\n",
    "scrubber = scrubadub.Scrubber()\n",
    "scrubber.remove_detector('email')\n",
    "text = u\"If you have any issues with python, you can contact Benjamin W Nichols at bwnichol@syr.edu\"\n",
    "scrubber.clean(text)\n"
   ]
  },
  {
   "cell_type": "code",
   "execution_count": null,
   "metadata": {},
   "outputs": [],
   "source": [
    "scrubadub.clean(text)"
   ]
  },
  {
   "cell_type": "code",
   "execution_count": null,
   "metadata": {},
   "outputs": [],
   "source": [
    "# By default, scrubadub uses {} curly bracket to show what has been removed from the text\n",
    "# However, you can also customize the notation by changing the prefix and suffix\n",
    "# for example, we want to bold the results, when showing in the webpage.\n",
    "\n",
    "# take this skype ID for example\n",
    "scrubadub.filth.base.Filth.prefix = u'{{' \n",
    "scrubadub.filth.base.Filth.suffix = u'}}'\n",
    "scrubber = scrubadub.Scrubber()\n",
    "par_4 = \"skypeid: wikihowstephanie\"\n",
    "scrubadub.clean(par_4)\n"
   ]
  },
  {
   "cell_type": "code",
   "execution_count": null,
   "metadata": {},
   "outputs": [],
   "source": [
    "# Remove username/password combinations from dirty drity ``text``.\n",
    "a = 'my username/password is yoyoyo123/ilovetraveling456'\n",
    "scrubadub.clean(a)"
   ]
  },
  {
   "cell_type": "code",
   "execution_count": null,
   "metadata": {},
   "outputs": [],
   "source": [
    "## or try\n",
    "b = \"username: benben123 password: hey345\"\n",
    "scrubadub.clean(b)"
   ]
  },
  {
   "cell_type": "code",
   "execution_count": null,
   "metadata": {},
   "outputs": [],
   "source": [
    "# Next, let's look at an advertisement on craiglist\n",
    "\n",
    "legal_ad = \"\"\"Attorney Jonathan Rosenberg, with the Greenberg Law Firm, offers a proven record of winning criminal defense  \\n \\\n",
    "matters across the state of New York. Our four-attorney law office represents clients in Courthouses  \\n \\\n",
    "across the State, with a main office in the heart of downtown Brooklyn. Call Jonathan directly  \\n \\\n",
    "24/7/365 at (718) 715.4845 or visit www.86courtstreet.com for a free consultation.  \\n \\\n",
    "\\n \\\n",
    "\\n \\\n",
    "Jonathan Rosenberg and the Greenberg Law Firm have a proven record of dismissals and acquittals  \\n \\\n",
    "across the State of New York, from Albany to Oneida to New York City.  \\n \\\n",
    "When you're livelihood and liberty is on the line, you deserve a winning team.  \\n \\\n",
    "\\n \\\n",
    "•  We're available 24/6/365 and will travel to your location. \\n \\\n",
    "•  We've got a published record of dismissals and acquittals across the state: www.86CourtStreet.com \\n \\\n",
    "•  We've got nearly 50 years of combined experience in criminal defense and appellate advocacy. \\n \\\n",
    " \\n \\\n",
    "If you can find a better legal team (at a better price) then you should hire them!  \\n \\\n",
    "Call Jonathan Rosenberg with the Greenberg Law Firm directly at (718) 715-4845, email the firm at jrosenberg@greenberglaw.com  \\n \\\n",
    "or visit www.86courtstreet.com to learn more about why clients have chosen our law firm  \\n \\\n",
    "to handle their matters across the state of New York.  \\n \\\n",
    "\\n \\\n",
    "Pursuant to NY Attorney Ethics regulations: This craigslist posting is attorney advertising;  \\n \\\n",
    "please keep in mind that prior results do not guarantee a similar outcome.\"\"\""
   ]
  },
  {
   "cell_type": "code",
   "execution_count": null,
   "metadata": {},
   "outputs": [],
   "source": [
    "print(scrubadub.clean(legal_ad, replace_with='identifier'))\n"
   ]
  },
  {
   "cell_type": "code",
   "execution_count": null,
   "metadata": {},
   "outputs": [],
   "source": [
    "# Potential problems with this package:\n",
    "# 1. It works on some versions of python but not all versions, for example, it doesn't work on \n",
    "#    python 3.7.0 or higher. This is python 3.6.5 and it works fine. We tested on 3.6 and 3.6.8 and they both work\n"
   ]
  },
  {
   "cell_type": "code",
   "execution_count": null,
   "metadata": {},
   "outputs": [],
   "source": [
    "# 2. Obviously, scrubadub is not smart enough to recognize some words as different meaning, and\n",
    "#    needs a bit more trainings on how to distinguish the difference. Currently, it can remove personally \n",
    "#    identifiable information with some regular expression and natural language processing techniques. \n",
    "#    These techniques work very well in a wide range of circumstances, but they also tend to make mistakes.\n",
    "\n",
    "a = u\"April is a good friend of mine. I hope to see her in April.\"\n",
    "scrubadub.clean(a)"
   ]
  },
  {
   "cell_type": "code",
   "execution_count": null,
   "metadata": {},
   "outputs": [],
   "source": [
    "# 3. scrubadub only works with text - data types are strings and byte\n",
    "\n",
    "# 4. Since it is open-source program, the good thing is that you can submit for suggestions and issues\n",
    "# and if they find it useful, they will happy to fix the issues.\n",
    "# InvalidReplaceWith: Invalid replace_with parameter surrogate. Can only use `placeholder` for the time being. \n",
    "# If you have other ideas for replace_with functionality, please make a suggestion at http://github.com/deanmalmgren/scrubadub/issues\n"
   ]
  },
  {
   "cell_type": "code",
   "execution_count": null,
   "metadata": {},
   "outputs": [],
   "source": [
    "# 5. scrubadub has some very conservative defaults (high recall) for identifying filth. \n",
    "#    One of the key ways in which scrubadub can be customized is in improving the precision of filth detection.\n",
    "\n",
    "#    For example, if a user knows that the word 'iPhone' is not a person's name, but a product, \n",
    "#    then a user should be able to easily adapt how scrubadub identifies names.\n"
   ]
  },
  {
   "cell_type": "code",
   "execution_count": null,
   "metadata": {},
   "outputs": [],
   "source": []
  }
 ],
 "metadata": {
  "kernelspec": {
   "display_name": "Python 3",
   "language": "python",
   "name": "python3"
  },
  "language_info": {
   "codemirror_mode": {
    "name": "ipython",
    "version": 3
   },
   "file_extension": ".py",
   "mimetype": "text/x-python",
   "name": "python",
   "nbconvert_exporter": "python",
   "pygments_lexer": "ipython3",
   "version": "3.6.5"
  }
 },
 "nbformat": 4,
 "nbformat_minor": 2
}
